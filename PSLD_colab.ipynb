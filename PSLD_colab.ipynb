{
    "nbformat": 4,
    "nbformat_minor": 0,
    "metadata": {
      "colab": {
        "provenance": [],
        "gpuType": "T4"
      },
      "kernelspec": {
        "name": "python3",
        "display_name": "Python 3"
      },
      "language_info": {
        "name": "python"
      },
      "accelerator": "GPU"
    },
    "cells": [
        {
          "cell_type": "markdown",
          "metadata": {
            "id": "view-in-github"
          },
          "source": [
            "[![Open In Colab](https://colab.research.google.com/assets/colab-badge.svg)](https://colab.research.google.com/github/camenduru/PSLD-colab/blob/main/PSLD_colab.ipynb)"
          ]
        },
      {
        "cell_type": "code",
        "execution_count": null,
        "metadata": {
          "id": "NrgcDwZxgDOe"
        },
        "outputs": [],
        "source": [
          "%cd /content\n",
          "!git clone -b dev https://github.com/camenduru/PSLD-hf\n",
          "%cd /content/PSLD-hf\n",
          "\n",
          "!pip install gradio omegaconf einops pytorch_lightning transformers taming-transformers-rom1504 git+https://github.com/openai/CLIP.git kornia\n",
          "\n",
          "!apt -y install -qq aria2\n",
          "!aria2c --console-log-level=error -c -x 16 -s 16 -k 1M https://huggingface.co/runwayml/stable-diffusion-v1-5/resolve/main/v1-5-pruned-emaonly.ckpt -d /content/PSLD-hf -o model.ckpt\n",
          "\n",
          "%cd /content/PSLD-hf\n",
          "!python app.py"
        ]
      }
    ]
  }